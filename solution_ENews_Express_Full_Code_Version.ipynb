{
  "cells": [
    {
      "cell_type": "markdown",
      "id": "6yDxo9u0d9Na",
      "metadata": {
        "id": "6yDxo9u0d9Na"
      },
      "source": [
        "# Project Business Statistics: E-news Express\n",
        "\n",
        "**Marks: 60**"
      ]
    },
    {
      "cell_type": "markdown",
      "id": "69ec314b",
      "metadata": {
        "id": "69ec314b"
      },
      "source": [
        "### Raid Mowla"
      ]
    },
    {
      "cell_type": "markdown",
      "id": "SrLd-ICEmPSD",
      "metadata": {
        "id": "SrLd-ICEmPSD"
      },
      "source": [
        "## Define Problem Statement and Objectives"
      ]
    },
    {
      "cell_type": "markdown",
      "id": "9Vt1PLLqmXNn",
      "metadata": {
        "id": "9Vt1PLLqmXNn"
      },
      "source": [
        "The E-News portal thinks that there has been a decline of new subscribers and the objective would be to perform a statistical analysis to see if the new landing page gathers more subscribers for the portal overall."
      ]
    },
    {
      "cell_type": "markdown",
      "id": "a6a3d218",
      "metadata": {
        "id": "a6a3d218"
      },
      "source": [
        "## Import all the necessary libraries"
      ]
    },
    {
      "cell_type": "code",
      "execution_count": 2,
      "id": "658c5dec",
      "metadata": {
        "id": "658c5dec"
      },
      "outputs": [],
      "source": [
        "#importing all the necessary libraries\n",
        "\n",
        "import pandas as pd            #importing pandas dataframe library\n",
        "import numpy as np             #importing numpy dataframe  library\n",
        "import scipy                   #importing scipy dataframe  library\n",
        "import scipy.stats as stats\n",
        "import matplotlib.pyplot as plt  #importing matplotlib dataframe library\n",
        "import seaborn as sns            #importing seaborn dataframe library\n"
      ]
    },
    {
      "cell_type": "markdown",
      "id": "6970dd99",
      "metadata": {
        "id": "6970dd99"
      },
      "source": [
        "## Reading the Data into a DataFrame"
      ]
    },
    {
      "cell_type": "code",
      "execution_count": null,
      "id": "d3b95640",
      "metadata": {
        "id": "d3b95640",
        "outputId": "52f31880-18fb-48e0-dd20-fd966459779e"
      },
      "outputs": [
        {
          "data": {
            "text/html": [
              "<div>\n",
              "<style scoped>\n",
              "    .dataframe tbody tr th:only-of-type {\n",
              "        vertical-align: middle;\n",
              "    }\n",
              "\n",
              "    .dataframe tbody tr th {\n",
              "        vertical-align: top;\n",
              "    }\n",
              "\n",
              "    .dataframe thead th {\n",
              "        text-align: right;\n",
              "    }\n",
              "</style>\n",
              "<table border=\"1\" class=\"dataframe\">\n",
              "  <thead>\n",
              "    <tr style=\"text-align: right;\">\n",
              "      <th></th>\n",
              "      <th>user_id</th>\n",
              "      <th>group</th>\n",
              "      <th>landing_page</th>\n",
              "      <th>time_spent_on_the_page</th>\n",
              "      <th>converted</th>\n",
              "      <th>language_preferred</th>\n",
              "    </tr>\n",
              "  </thead>\n",
              "  <tbody>\n",
              "    <tr>\n",
              "      <th>72</th>\n",
              "      <td>546452</td>\n",
              "      <td>treatment</td>\n",
              "      <td>new</td>\n",
              "      <td>5.08</td>\n",
              "      <td>yes</td>\n",
              "      <td>English</td>\n",
              "    </tr>\n",
              "    <tr>\n",
              "      <th>38</th>\n",
              "      <td>546487</td>\n",
              "      <td>treatment</td>\n",
              "      <td>new</td>\n",
              "      <td>1.65</td>\n",
              "      <td>no</td>\n",
              "      <td>Spanish</td>\n",
              "    </tr>\n",
              "    <tr>\n",
              "      <th>77</th>\n",
              "      <td>546485</td>\n",
              "      <td>treatment</td>\n",
              "      <td>new</td>\n",
              "      <td>3.88</td>\n",
              "      <td>no</td>\n",
              "      <td>Spanish</td>\n",
              "    </tr>\n",
              "    <tr>\n",
              "      <th>1</th>\n",
              "      <td>546468</td>\n",
              "      <td>treatment</td>\n",
              "      <td>new</td>\n",
              "      <td>7.13</td>\n",
              "      <td>yes</td>\n",
              "      <td>English</td>\n",
              "    </tr>\n",
              "    <tr>\n",
              "      <th>99</th>\n",
              "      <td>546483</td>\n",
              "      <td>treatment</td>\n",
              "      <td>new</td>\n",
              "      <td>5.86</td>\n",
              "      <td>yes</td>\n",
              "      <td>English</td>\n",
              "    </tr>\n",
              "    <tr>\n",
              "      <th>89</th>\n",
              "      <td>546561</td>\n",
              "      <td>control</td>\n",
              "      <td>old</td>\n",
              "      <td>6.04</td>\n",
              "      <td>yes</td>\n",
              "      <td>French</td>\n",
              "    </tr>\n",
              "    <tr>\n",
              "      <th>78</th>\n",
              "      <td>546486</td>\n",
              "      <td>treatment</td>\n",
              "      <td>new</td>\n",
              "      <td>9.12</td>\n",
              "      <td>yes</td>\n",
              "      <td>French</td>\n",
              "    </tr>\n",
              "    <tr>\n",
              "      <th>18</th>\n",
              "      <td>546493</td>\n",
              "      <td>control</td>\n",
              "      <td>old</td>\n",
              "      <td>10.30</td>\n",
              "      <td>yes</td>\n",
              "      <td>English</td>\n",
              "    </tr>\n",
              "  </tbody>\n",
              "</table>\n",
              "</div>"
            ],
            "text/plain": [
              "    user_id      group landing_page  time_spent_on_the_page converted  \\\n",
              "72   546452  treatment          new                    5.08       yes   \n",
              "38   546487  treatment          new                    1.65        no   \n",
              "77   546485  treatment          new                    3.88        no   \n",
              "1    546468  treatment          new                    7.13       yes   \n",
              "99   546483  treatment          new                    5.86       yes   \n",
              "89   546561    control          old                    6.04       yes   \n",
              "78   546486  treatment          new                    9.12       yes   \n",
              "18   546493    control          old                   10.30       yes   \n",
              "\n",
              "   language_preferred  \n",
              "72            English  \n",
              "38            Spanish  \n",
              "77            Spanish  \n",
              "1             English  \n",
              "99            English  \n",
              "89             French  \n",
              "78             French  \n",
              "18            English  "
            ]
          },
          "execution_count": 2,
          "metadata": {},
          "output_type": "execute_result"
        }
      ],
      "source": [
        "news = pd.read_csv('abtest.csv')\n",
        "news.sample(8)"
      ]
    },
    {
      "cell_type": "markdown",
      "id": "9d75cfa2",
      "metadata": {
        "id": "9d75cfa2"
      },
      "source": [
        "## Explore the dataset and extract insights using Exploratory Data Analysis"
      ]
    },
    {
      "cell_type": "markdown",
      "id": "27201534",
      "metadata": {
        "id": "27201534"
      },
      "source": [
        "- Data Overview\n",
        "  - Viewing the first and last few rows of the dataset\n",
        "  - Checking the shape of the dataset\n",
        "  - Getting the statistical summary for the variables\n",
        "- Check for missing values\n",
        "- Check for duplicates"
      ]
    },
    {
      "cell_type": "markdown",
      "id": "b95400a7",
      "metadata": {
        "id": "b95400a7"
      },
      "source": [
        "#The First Few Rows"
      ]
    },
    {
      "cell_type": "code",
      "execution_count": null,
      "id": "37378b54",
      "metadata": {
        "id": "37378b54",
        "outputId": "bcfa9161-7b4f-4ff4-87f4-d5628bb5bca0"
      },
      "outputs": [
        {
          "data": {
            "text/html": [
              "<div>\n",
              "<style scoped>\n",
              "    .dataframe tbody tr th:only-of-type {\n",
              "        vertical-align: middle;\n",
              "    }\n",
              "\n",
              "    .dataframe tbody tr th {\n",
              "        vertical-align: top;\n",
              "    }\n",
              "\n",
              "    .dataframe thead th {\n",
              "        text-align: right;\n",
              "    }\n",
              "</style>\n",
              "<table border=\"1\" class=\"dataframe\">\n",
              "  <thead>\n",
              "    <tr style=\"text-align: right;\">\n",
              "      <th></th>\n",
              "      <th>user_id</th>\n",
              "      <th>group</th>\n",
              "      <th>landing_page</th>\n",
              "      <th>time_spent_on_the_page</th>\n",
              "      <th>converted</th>\n",
              "      <th>language_preferred</th>\n",
              "    </tr>\n",
              "  </thead>\n",
              "  <tbody>\n",
              "    <tr>\n",
              "      <th>0</th>\n",
              "      <td>546592</td>\n",
              "      <td>control</td>\n",
              "      <td>old</td>\n",
              "      <td>3.48</td>\n",
              "      <td>no</td>\n",
              "      <td>Spanish</td>\n",
              "    </tr>\n",
              "    <tr>\n",
              "      <th>1</th>\n",
              "      <td>546468</td>\n",
              "      <td>treatment</td>\n",
              "      <td>new</td>\n",
              "      <td>7.13</td>\n",
              "      <td>yes</td>\n",
              "      <td>English</td>\n",
              "    </tr>\n",
              "    <tr>\n",
              "      <th>2</th>\n",
              "      <td>546462</td>\n",
              "      <td>treatment</td>\n",
              "      <td>new</td>\n",
              "      <td>4.40</td>\n",
              "      <td>no</td>\n",
              "      <td>Spanish</td>\n",
              "    </tr>\n",
              "    <tr>\n",
              "      <th>3</th>\n",
              "      <td>546567</td>\n",
              "      <td>control</td>\n",
              "      <td>old</td>\n",
              "      <td>3.02</td>\n",
              "      <td>no</td>\n",
              "      <td>French</td>\n",
              "    </tr>\n",
              "    <tr>\n",
              "      <th>4</th>\n",
              "      <td>546459</td>\n",
              "      <td>treatment</td>\n",
              "      <td>new</td>\n",
              "      <td>4.75</td>\n",
              "      <td>yes</td>\n",
              "      <td>Spanish</td>\n",
              "    </tr>\n",
              "  </tbody>\n",
              "</table>\n",
              "</div>"
            ],
            "text/plain": [
              "   user_id      group landing_page  time_spent_on_the_page converted  \\\n",
              "0   546592    control          old                    3.48        no   \n",
              "1   546468  treatment          new                    7.13       yes   \n",
              "2   546462  treatment          new                    4.40        no   \n",
              "3   546567    control          old                    3.02        no   \n",
              "4   546459  treatment          new                    4.75       yes   \n",
              "\n",
              "  language_preferred  \n",
              "0            Spanish  \n",
              "1            English  \n",
              "2            Spanish  \n",
              "3             French  \n",
              "4            Spanish  "
            ]
          },
          "execution_count": 3,
          "metadata": {},
          "output_type": "execute_result"
        }
      ],
      "source": [
        "news.head()   #generates the head of the dataset"
      ]
    },
    {
      "cell_type": "markdown",
      "id": "c53baf8c",
      "metadata": {
        "id": "c53baf8c"
      },
      "source": [
        "#The Last few rows"
      ]
    },
    {
      "cell_type": "code",
      "execution_count": null,
      "id": "5de4c253",
      "metadata": {
        "id": "5de4c253",
        "outputId": "a4379d18-0f7e-4975-b7b3-deaa3673559e"
      },
      "outputs": [
        {
          "data": {
            "text/html": [
              "<div>\n",
              "<style scoped>\n",
              "    .dataframe tbody tr th:only-of-type {\n",
              "        vertical-align: middle;\n",
              "    }\n",
              "\n",
              "    .dataframe tbody tr th {\n",
              "        vertical-align: top;\n",
              "    }\n",
              "\n",
              "    .dataframe thead th {\n",
              "        text-align: right;\n",
              "    }\n",
              "</style>\n",
              "<table border=\"1\" class=\"dataframe\">\n",
              "  <thead>\n",
              "    <tr style=\"text-align: right;\">\n",
              "      <th></th>\n",
              "      <th>user_id</th>\n",
              "      <th>group</th>\n",
              "      <th>landing_page</th>\n",
              "      <th>time_spent_on_the_page</th>\n",
              "      <th>converted</th>\n",
              "      <th>language_preferred</th>\n",
              "    </tr>\n",
              "  </thead>\n",
              "  <tbody>\n",
              "    <tr>\n",
              "      <th>95</th>\n",
              "      <td>546446</td>\n",
              "      <td>treatment</td>\n",
              "      <td>new</td>\n",
              "      <td>5.15</td>\n",
              "      <td>no</td>\n",
              "      <td>Spanish</td>\n",
              "    </tr>\n",
              "    <tr>\n",
              "      <th>96</th>\n",
              "      <td>546544</td>\n",
              "      <td>control</td>\n",
              "      <td>old</td>\n",
              "      <td>6.52</td>\n",
              "      <td>yes</td>\n",
              "      <td>English</td>\n",
              "    </tr>\n",
              "    <tr>\n",
              "      <th>97</th>\n",
              "      <td>546472</td>\n",
              "      <td>treatment</td>\n",
              "      <td>new</td>\n",
              "      <td>7.07</td>\n",
              "      <td>yes</td>\n",
              "      <td>Spanish</td>\n",
              "    </tr>\n",
              "    <tr>\n",
              "      <th>98</th>\n",
              "      <td>546481</td>\n",
              "      <td>treatment</td>\n",
              "      <td>new</td>\n",
              "      <td>6.20</td>\n",
              "      <td>yes</td>\n",
              "      <td>Spanish</td>\n",
              "    </tr>\n",
              "    <tr>\n",
              "      <th>99</th>\n",
              "      <td>546483</td>\n",
              "      <td>treatment</td>\n",
              "      <td>new</td>\n",
              "      <td>5.86</td>\n",
              "      <td>yes</td>\n",
              "      <td>English</td>\n",
              "    </tr>\n",
              "  </tbody>\n",
              "</table>\n",
              "</div>"
            ],
            "text/plain": [
              "    user_id      group landing_page  time_spent_on_the_page converted  \\\n",
              "95   546446  treatment          new                    5.15        no   \n",
              "96   546544    control          old                    6.52       yes   \n",
              "97   546472  treatment          new                    7.07       yes   \n",
              "98   546481  treatment          new                    6.20       yes   \n",
              "99   546483  treatment          new                    5.86       yes   \n",
              "\n",
              "   language_preferred  \n",
              "95            Spanish  \n",
              "96            English  \n",
              "97            Spanish  \n",
              "98            Spanish  \n",
              "99            English  "
            ]
          },
          "execution_count": 4,
          "metadata": {},
          "output_type": "execute_result"
        }
      ],
      "source": [
        "news.tail()"
      ]
    },
    {
      "cell_type": "markdown",
      "id": "676c78e7",
      "metadata": {
        "id": "676c78e7"
      },
      "source": [
        "#Shape of the datset"
      ]
    },
    {
      "cell_type": "code",
      "execution_count": null,
      "id": "fcb23938",
      "metadata": {
        "id": "fcb23938",
        "outputId": "313e83e8-b547-4fee-a134-4f6a2f207ffd"
      },
      "outputs": [
        {
          "name": "stdout",
          "output_type": "stream",
          "text": [
            "There are  100  rows and  6  columns.\n"
          ]
        }
      ],
      "source": [
        "print('There are ',news.shape[0],' rows and ',news.shape[1],' columns.')"
      ]
    },
    {
      "cell_type": "markdown",
      "id": "32435dd6",
      "metadata": {
        "id": "32435dd6"
      },
      "source": [
        "#The Statistical Summary"
      ]
    },
    {
      "cell_type": "code",
      "execution_count": null,
      "id": "854c7cd5",
      "metadata": {
        "id": "854c7cd5",
        "outputId": "3a07aee4-635d-4d8e-978c-209c4939fa59"
      },
      "outputs": [
        {
          "data": {
            "text/html": [
              "<div>\n",
              "<style scoped>\n",
              "    .dataframe tbody tr th:only-of-type {\n",
              "        vertical-align: middle;\n",
              "    }\n",
              "\n",
              "    .dataframe tbody tr th {\n",
              "        vertical-align: top;\n",
              "    }\n",
              "\n",
              "    .dataframe thead th {\n",
              "        text-align: right;\n",
              "    }\n",
              "</style>\n",
              "<table border=\"1\" class=\"dataframe\">\n",
              "  <thead>\n",
              "    <tr style=\"text-align: right;\">\n",
              "      <th></th>\n",
              "      <th>user_id</th>\n",
              "      <th>time_spent_on_the_page</th>\n",
              "    </tr>\n",
              "  </thead>\n",
              "  <tbody>\n",
              "    <tr>\n",
              "      <th>count</th>\n",
              "      <td>100.000000</td>\n",
              "      <td>100.000000</td>\n",
              "    </tr>\n",
              "    <tr>\n",
              "      <th>mean</th>\n",
              "      <td>546517.000000</td>\n",
              "      <td>5.377800</td>\n",
              "    </tr>\n",
              "    <tr>\n",
              "      <th>std</th>\n",
              "      <td>52.295779</td>\n",
              "      <td>2.378166</td>\n",
              "    </tr>\n",
              "    <tr>\n",
              "      <th>min</th>\n",
              "      <td>546443.000000</td>\n",
              "      <td>0.190000</td>\n",
              "    </tr>\n",
              "    <tr>\n",
              "      <th>25%</th>\n",
              "      <td>546467.750000</td>\n",
              "      <td>3.880000</td>\n",
              "    </tr>\n",
              "    <tr>\n",
              "      <th>50%</th>\n",
              "      <td>546492.500000</td>\n",
              "      <td>5.415000</td>\n",
              "    </tr>\n",
              "    <tr>\n",
              "      <th>75%</th>\n",
              "      <td>546567.250000</td>\n",
              "      <td>7.022500</td>\n",
              "    </tr>\n",
              "    <tr>\n",
              "      <th>max</th>\n",
              "      <td>546592.000000</td>\n",
              "      <td>10.710000</td>\n",
              "    </tr>\n",
              "  </tbody>\n",
              "</table>\n",
              "</div>"
            ],
            "text/plain": [
              "             user_id  time_spent_on_the_page\n",
              "count     100.000000              100.000000\n",
              "mean   546517.000000                5.377800\n",
              "std        52.295779                2.378166\n",
              "min    546443.000000                0.190000\n",
              "25%    546467.750000                3.880000\n",
              "50%    546492.500000                5.415000\n",
              "75%    546567.250000                7.022500\n",
              "max    546592.000000               10.710000"
            ]
          },
          "execution_count": 6,
          "metadata": {},
          "output_type": "execute_result"
        }
      ],
      "source": [
        "news.describe()         #provides a statistical summary"
      ]
    },
    {
      "cell_type": "markdown",
      "id": "507eedb2",
      "metadata": {
        "id": "507eedb2"
      },
      "source": [
        "#Checking for null values"
      ]
    },
    {
      "cell_type": "code",
      "execution_count": null,
      "id": "750bc001",
      "metadata": {
        "id": "750bc001",
        "outputId": "c2694b8d-5de4-469b-950f-7995d1493900"
      },
      "outputs": [
        {
          "data": {
            "text/plain": [
              "user_id                   0\n",
              "group                     0\n",
              "landing_page              0\n",
              "time_spent_on_the_page    0\n",
              "converted                 0\n",
              "language_preferred        0\n",
              "dtype: int64"
            ]
          },
          "execution_count": 7,
          "metadata": {},
          "output_type": "execute_result"
        }
      ],
      "source": [
        "news.isnull().sum()        #generates the number f all the null values"
      ]
    },
    {
      "cell_type": "markdown",
      "id": "1ab57868",
      "metadata": {
        "id": "1ab57868"
      },
      "source": [
        "#Checking for duplicate values"
      ]
    },
    {
      "cell_type": "code",
      "execution_count": null,
      "id": "f822faf1",
      "metadata": {
        "id": "f822faf1",
        "outputId": "1751f6f8-38b8-4013-b1a1-5bbc96600af2"
      },
      "outputs": [
        {
          "name": "stdout",
          "output_type": "stream",
          "text": [
            "The number of an user user appearing more than once is 0\n"
          ]
        }
      ],
      "source": [
        "duplicated_user = news.duplicated('user_id').sum()     #generates the number of all the duplicate user id's\n",
        "print(\"The number of an user user appearing more than once is\",duplicated_user)"
      ]
    },
    {
      "cell_type": "markdown",
      "id": "68f3b2c9",
      "metadata": {
        "id": "68f3b2c9"
      },
      "source": [
        "### Univariate Analysis"
      ]
    },
    {
      "cell_type": "markdown",
      "id": "64d17ff7",
      "metadata": {
        "id": "64d17ff7"
      },
      "source": [
        "#Time Spent on page"
      ]
    },
    {
      "cell_type": "code",
      "execution_count": null,
      "id": "6864a30b",
      "metadata": {
        "id": "6864a30b",
        "outputId": "7cddfbcb-31f2-4f37-93a5-13127c7bd530"
      },
      "outputs": [
        {
          "name": "stdout",
          "output_type": "stream",
          "text": [
            "The mean time total spent is 5.38 minutes.\n"
          ]
        }
      ],
      "source": [
        "mean_time_total = news['time_spent_on_the_page'].mean()      #generates the mean of the total time spent by the users\n",
        "print(\"The mean time total spent is\",round(mean_time_total,2),\"minutes.\")\n"
      ]
    },
    {
      "cell_type": "code",
      "execution_count": null,
      "id": "7132ad81",
      "metadata": {
        "id": "7132ad81",
        "outputId": "ef892e58-55ce-4869-abac-ab1bfe453938"
      },
      "outputs": [
        {
          "data": {
            "image/png": "[encoded data removed]",
            "text/plain": [
              "<Figure size 640x480 with 1 Axes>"
            ]
          },
          "metadata": {},
          "output_type": "display_data"
        }
      ],
      "source": [
        "\n",
        "sns.boxplot(data = news, x = 'time_spent_on_the_page',color = 'g');"
      ]
    },
    {
      "cell_type": "markdown",
      "id": "88a5341d",
      "metadata": {
        "id": "88a5341d"
      },
      "source": [
        "The mean time spent on the landed page is between 5 to 6 minutes ~ 5.37 minutes."
      ]
    },
    {
      "cell_type": "markdown",
      "id": "699433d2",
      "metadata": {
        "id": "699433d2"
      },
      "source": [
        "#Converted"
      ]
    },
    {
      "cell_type": "code",
      "execution_count": null,
      "id": "2e94dfd3",
      "metadata": {
        "id": "2e94dfd3",
        "outputId": "8d2105d2-ba2a-4aa3-8d8a-e14e273343aa"
      },
      "outputs": [
        {
          "data": {
            "text/plain": [
              "Text(0.5, 1.0, 'Users ')"
            ]
          },
          "execution_count": 11,
          "metadata": {},
          "output_type": "execute_result"
        },
        {
          "data": {
            "image/png": "[encoded data removed]",
            "text/plain": [
              "<Figure size 640x480 with 1 Axes>"
            ]
          },
          "metadata": {},
          "output_type": "display_data"
        }
      ],
      "source": [
        "sns.countplot(data = news, x = 'converted',palette = 'bright')\n",
        "plt.title(('Users '))"
      ]
    },
    {
      "cell_type": "markdown",
      "id": "a7538356",
      "metadata": {
        "id": "a7538356"
      },
      "source": [
        "We are seeing that the amount of conversion from the old page which is more than 50 which is more than non-converted users."
      ]
    },
    {
      "cell_type": "markdown",
      "id": "59c7822b",
      "metadata": {
        "id": "59c7822b"
      },
      "source": [
        "#Language Preferred"
      ]
    },
    {
      "cell_type": "code",
      "execution_count": null,
      "id": "36391600",
      "metadata": {
        "id": "36391600",
        "outputId": "051d7329-96fe-49e1-bce8-f79889ec754b"
      },
      "outputs": [
        {
          "data": {
            "image/png": "[encoded data removed]",
            "text/plain": [
              "<Figure size 640x480 with 1 Axes>"
            ]
          },
          "metadata": {},
          "output_type": "display_data"
        }
      ],
      "source": [
        "sns.countplot(data = news, x = 'language_preferred',palette = 'bright');\n",
        "plt.xticks(rotation = 90)\n",
        "plt.title(('Popularity of preferred language selection on the landed page'))\n",
        "plt.show()"
      ]
    },
    {
      "cell_type": "markdown",
      "id": "cb70daeb",
      "metadata": {
        "id": "cb70daeb"
      },
      "source": [
        "This data was bit surprising to me as first English was the least popular language and Spanish and French seems to be both equally most popular languages. Maybe we have more French and Spanish speaking users rather than English commonly."
      ]
    },
    {
      "cell_type": "markdown",
      "id": "8f150023",
      "metadata": {
        "id": "8f150023"
      },
      "source": [
        "#User Id"
      ]
    },
    {
      "cell_type": "code",
      "execution_count": null,
      "id": "2ea48953",
      "metadata": {
        "id": "2ea48953",
        "outputId": "4d674f2c-3e6c-44ff-9b33-8420d086071c"
      },
      "outputs": [
        {
          "name": "stdout",
          "output_type": "stream",
          "text": [
            "There are no duplicated customer id's\n"
          ]
        }
      ],
      "source": [
        "duplicate = news.duplicated('user_id').sum()\n",
        "print(\"There are no duplicated customer id's\")"
      ]
    },
    {
      "cell_type": "markdown",
      "id": "eeb2d7fd",
      "metadata": {
        "id": "eeb2d7fd"
      },
      "source": [
        "#landing page"
      ]
    },
    {
      "cell_type": "code",
      "execution_count": null,
      "id": "f6de003d",
      "metadata": {
        "id": "f6de003d",
        "outputId": "80bb1c64-f49d-47fd-df97-9687ea8c1cf5"
      },
      "outputs": [
        {
          "data": {
            "text/plain": [
              "Text(0.5, 1.0, 'Users landing onto old and new landing pages')"
            ]
          },
          "execution_count": 14,
          "metadata": {},
          "output_type": "execute_result"
        },
        {
          "data": {
            "image/png": "[encoded data removed]",
            "text/plain": [
              "<Figure size 640x480 with 1 Axes>"
            ]
          },
          "metadata": {},
          "output_type": "display_data"
        }
      ],
      "source": [
        "sns.countplot(data = news, x = 'landing_page')\n",
        "plt.title(('Users landing onto old and new landing pages'))"
      ]
    },
    {
      "cell_type": "markdown",
      "id": "ca2770d9",
      "metadata": {
        "id": "ca2770d9"
      },
      "source": [
        "Here we actually don't see any difference that we may point out. And, since the samples has been equally distributed into both pages, this barplot is a good visual for that too."
      ]
    },
    {
      "cell_type": "markdown",
      "id": "fad2de2f",
      "metadata": {
        "id": "fad2de2f"
      },
      "source": [
        "### Bivariate Analysis"
      ]
    },
    {
      "cell_type": "markdown",
      "id": "ea4afb7c",
      "metadata": {
        "id": "ea4afb7c"
      },
      "source": [
        "Landing Page Vs Converted"
      ]
    },
    {
      "cell_type": "code",
      "execution_count": null,
      "id": "58e9a1d0",
      "metadata": {
        "id": "58e9a1d0",
        "outputId": "582c8f5f-7f67-4298-fbf9-bc9c3f0fbd74"
      },
      "outputs": [
        {
          "name": "stdout",
          "output_type": "stream",
          "text": [
            "The number of new converted users after landing on the new page is 33\n",
            "The number of old converted users on the old landing page is 29\n"
          ]
        }
      ],
      "source": [
        "converted_new_users = news[news['landing_page']=='new'].converted.value_counts()['yes']\n",
        "print(\"The number of new converted users after landing on the new page is\",converted_new_users)\n",
        "converted_old_users = news[news['landing_page']=='old'].converted.value_counts()['no']\n",
        "print(\"The number of old converted users on the old landing page is\",converted_old_users)"
      ]
    },
    {
      "cell_type": "markdown",
      "id": "f61125bc",
      "metadata": {
        "id": "f61125bc"
      },
      "source": [
        "Group vs Time spent on the page"
      ]
    },
    {
      "cell_type": "code",
      "execution_count": null,
      "id": "b77d7b1f",
      "metadata": {
        "id": "b77d7b1f",
        "outputId": "1aebe335-79e4-4856-c7fd-1b02abbf94e7"
      },
      "outputs": [
        {
          "name": "stdout",
          "output_type": "stream",
          "text": [
            "The mean time for the control group is ~ 1.04 minutes\n",
            "The mean time for the treatment group is ~ 1.04 minutes\n"
          ]
        }
      ],
      "source": [
        "control_group_mean_time = news[news['group']=='control'].time_spent_on_the_page.value_counts().mean()\n",
        "print(\"The mean time for the control group is ~\",round(control_group_mean_time,2),\"minutes\")\n",
        "treatment_group_mean_time= news[news['group']=='treatment'].time_spent_on_the_page.value_counts().mean()\n",
        "print(\"The mean time for the treatment group is ~\",round(treatment_group_mean_time,2),\"minutes\")"
      ]
    },
    {
      "cell_type": "markdown",
      "id": "993f9a98",
      "metadata": {
        "id": "993f9a98"
      },
      "source": [
        "Landing Page vs Time spent on the page vs Language preferred"
      ]
    },
    {
      "cell_type": "code",
      "execution_count": null,
      "id": "96781465",
      "metadata": {
        "id": "96781465",
        "outputId": "8a5a6363-2ec1-4f93-af6d-9d81bc064f03"
      },
      "outputs": [
        {
          "data": {
            "image/png": "[encoded data removed]",
            "text/plain": [
              "<Figure size 500x1500 with 3 Axes>"
            ]
          },
          "metadata": {},
          "output_type": "display_data"
        }
      ],
      "source": [
        "sns.relplot(\n",
        "    x='landing_page', #generating a lineplot as x = food_preparation_type and y as the rating\n",
        "    y='time_spent_on_the_page', \n",
        "    data=news, \n",
        "    kind='line', \n",
        "    col='language_preferred',col_wrap = 1);"
      ]
    },
    {
      "cell_type": "markdown",
      "id": "e483ed10",
      "metadata": {
        "id": "e483ed10"
      },
      "source": [
        "### Observation\n",
        "The above visualization tells us that the most time spent based on the language preferrence is 'English' on the new page and the least time spent on the old page is users of French language. "
      ]
    },
    {
      "cell_type": "markdown",
      "id": "d587c19d",
      "metadata": {
        "id": "d587c19d"
      },
      "source": [
        "Landing Page vs Time spent on the page"
      ]
    },
    {
      "cell_type": "code",
      "execution_count": null,
      "id": "88f49de8",
      "metadata": {
        "id": "88f49de8",
        "outputId": "cacedd2d-6ab5-4ffb-b06b-b9191fc4054e"
      },
      "outputs": [
        {
          "data": {
            "image/png": "[encoded data removed]",
            "text/plain": [
              "<Figure size 640x480 with 1 Axes>"
            ]
          },
          "metadata": {},
          "output_type": "display_data"
        }
      ],
      "source": [
        "sns.boxplot(\n",
        "    x='landing_page', \n",
        "    y='time_spent_on_the_page',                  \n",
        "    data=news,                            #generates a boxplot comparing landing pages and time spent on it\n",
        "    color='yellow')\n",
        "plt.xticks(ha='right');"
      ]
    },
    {
      "cell_type": "markdown",
      "id": "86658299",
      "metadata": {
        "id": "86658299"
      },
      "source": [
        "### Observation\n",
        "\n",
        "We see that more time was spent on the old landing page, this visual dosen't seem right because the total time on the new page was <300 minutes, where the total time on the old page is >280 minutes. But, the boxplot showed some whiskers for the new page and the median time is higher on the new page than the old one."
      ]
    },
    {
      "cell_type": "markdown",
      "id": "8b2e283c",
      "metadata": {
        "id": "8b2e283c"
      },
      "source": [
        "Conversion Vs Time Spent on the page"
      ]
    },
    {
      "cell_type": "code",
      "execution_count": null,
      "id": "31344769",
      "metadata": {
        "id": "31344769",
        "outputId": "00f74822-e37f-4b04-d48d-8be3a140cc53"
      },
      "outputs": [
        {
          "data": {
            "image/png": "[encoded data removed]",
            "text/plain": [
              "<Figure size 640x480 with 1 Axes>"
            ]
          },
          "metadata": {},
          "output_type": "display_data"
        },
        {
          "data": {
            "text/plain": [
              "<Figure size 1500x500 with 0 Axes>"
            ]
          },
          "metadata": {},
          "output_type": "display_data"
        }
      ],
      "source": [
        "sns.barplot(\n",
        "    x='converted', \n",
        "    y='time_spent_on_the_page', \n",
        "    data=news,                     #generates a barplot with the bar color being black of size (15,5)\n",
        "    color='black');\n",
        "plt.xticks( ha='right');\n",
        "plt.figure(figsize=(15,5));"
      ]
    },
    {
      "cell_type": "markdown",
      "id": "bf032a32",
      "metadata": {
        "id": "bf032a32"
      },
      "source": [
        "### Observation\n",
        "In this barplot we can see that the more the users have spent time on the page has converted."
      ]
    },
    {
      "cell_type": "markdown",
      "id": "8af2c17f",
      "metadata": {
        "id": "8af2c17f"
      },
      "source": [
        "Coversion vs Landing Page"
      ]
    },
    {
      "cell_type": "code",
      "execution_count": null,
      "id": "bb57e253",
      "metadata": {
        "id": "bb57e253",
        "outputId": "c583b960-f280-45d5-91bd-e5700179e6f2"
      },
      "outputs": [
        {
          "data": {
            "text/plain": [
              "Text(0, 0.5, 'Subscribers')"
            ]
          },
          "execution_count": 20,
          "metadata": {},
          "output_type": "execute_result"
        },
        {
          "data": {
            "image/png": "[encoded data removed]",
            "text/plain": [
              "<Figure size 640x480 with 1 Axes>"
            ]
          },
          "metadata": {},
          "output_type": "display_data"
        }
      ],
      "source": [
        "bar = sns.countplot(data=news, x='converted',hue='landing_page',palette = 'bright')\n",
        "bar.set_xlabel(\"Throughout Conversion rate\")   #generates a countplot for Conversion and Landing page\n",
        "bar.set_ylabel(\"Subscribers\")"
      ]
    },
    {
      "cell_type": "markdown",
      "id": "d5a3da86",
      "metadata": {
        "id": "d5a3da86"
      },
      "source": [
        "###  Observation\n",
        "We can see from the bar graph that the user's conversion rate to the new landing page is higher than the old landing page. Also, there is a huge number of people not chosing to convert to the old landing page."
      ]
    },
    {
      "cell_type": "markdown",
      "id": "d786466c",
      "metadata": {
        "id": "d786466c"
      },
      "source": [
        "Language Preferred Vs Conversions "
      ]
    },
    {
      "cell_type": "code",
      "execution_count": null,
      "id": "407e0e26",
      "metadata": {
        "id": "407e0e26",
        "outputId": "62be476e-f18b-4cdc-d229-947f39031034"
      },
      "outputs": [
        {
          "data": {
            "image/png": "[encoded data removed]",
            "text/plain": [
              "<Figure size 640x480 with 1 Axes>"
            ]
          },
          "metadata": {},
          "output_type": "display_data"
        }
      ],
      "source": [
        "bar2 = sns.countplot(data=news, x='language_preferred',hue='converted',palette = 'husl')\n",
        "bar2.set_xlabel(\"Converts preferrence of languages\")  #will generate a countplot\n",
        "bar2.set_ylabel(\"Subscribers\")\n",
        "bar2.set_ylim([0,25]);"
      ]
    },
    {
      "cell_type": "markdown",
      "id": "a3063629",
      "metadata": {
        "id": "a3063629"
      },
      "source": [
        "### Observation\n",
        "The most conversions happened among the English language users and the most non conversions happened among the French language users."
      ]
    },
    {
      "cell_type": "markdown",
      "id": "27906576",
      "metadata": {
        "id": "27906576"
      },
      "source": [
        "## 1. Do the users spend more time on the new landing page than the existing landing page?"
      ]
    },
    {
      "cell_type": "markdown",
      "id": "e5fdf0c8",
      "metadata": {
        "id": "e5fdf0c8"
      },
      "source": [
        "### Perform Visual Analysis"
      ]
    },
    {
      "cell_type": "code",
      "execution_count": null,
      "id": "6eZJa41eg21n",
      "metadata": {
        "id": "6eZJa41eg21n",
        "outputId": "c06bcc75-e16e-40ac-b135-c03d67e86c75"
      },
      "outputs": [
        {
          "data": {
            "image/png": "[encoded data removed]",
            "text/plain": [
              "<Figure size 640x480 with 1 Axes>"
            ]
          },
          "metadata": {},
          "output_type": "display_data"
        }
      ],
      "source": [
        "sns.histplot(data = news, x = 'time_spent_on_the_page', hue = 'landing_page',kde=True,palette = 'bright')\n",
        "plt.ylim([0,15])\n",
        "plt.xlim([0,11])\n",
        "plt.xlabel(\"Overall Time Spent by subscribers\");\n",
        "\n"
      ]
    },
    {
      "cell_type": "markdown",
      "id": "b2b04590",
      "metadata": {
        "id": "b2b04590"
      },
      "source": [
        "Through the barplot visualization we can see that the users tend to spend more time on the newly invented page than, the previous one."
      ]
    },
    {
      "cell_type": "markdown",
      "id": "56b3dafd",
      "metadata": {
        "id": "56b3dafd"
      },
      "source": [
        "### Step 1: Define the null and alternate hypotheses"
      ]
    },
    {
      "cell_type": "markdown",
      "id": "11eed61f",
      "metadata": {
        "id": "11eed61f"
      },
      "source": [
        "#Null Hypothesis"
      ]
    },
    {
      "cell_type": "markdown",
      "id": "d2ac77ef",
      "metadata": {
        "id": "d2ac77ef"
      },
      "source": [
        "Let $\\mu_1, \\mu_2$ be the time spent on the old existing landing page and the new invented landing page.\n",
        "\n",
        ">$H_0:\\mu_1=\\mu_2$\n",
        "\n",
        "**$H_0:$ The time spent/engagement by the subscribers on the new and old landing page is same**\n",
        "\n"
      ]
    },
    {
      "cell_type": "markdown",
      "id": "9ad1820e",
      "metadata": {
        "id": "9ad1820e"
      },
      "source": [
        "#Alternative Hypothesis"
      ]
    },
    {
      "cell_type": "markdown",
      "id": "4155121f",
      "metadata": {
        "id": "4155121f"
      },
      "source": [
        "Let $\\mu_1, \\mu_2$ be the time spent on the old existing landing page and the new invented landing page.\n",
        "\n",
        ">$H_a:\\mu_1<\\mu_2$\n",
        "\n",
        "**$H_a:$ The time spent/engagement by the subscribers on the new landing page is more than the already existed old one**"
      ]
    },
    {
      "cell_type": "markdown",
      "id": "c7ee4907",
      "metadata": {
        "id": "c7ee4907"
      },
      "source": [
        "### Step 2: Select Appropriate test"
      ]
    },
    {
      "cell_type": "markdown",
      "id": "2c183cd7",
      "metadata": {
        "id": "2c183cd7"
      },
      "source": [
        "Since, the standard deviation is unknown and it is two independent sets. Also, the samples have been randomly chosen. So, I think 'Two-independent sample T test' might be the best fit."
      ]
    },
    {
      "cell_type": "markdown",
      "id": "3f58c9a7",
      "metadata": {
        "id": "3f58c9a7"
      },
      "source": [
        "### Step 3: Decide the significance level"
      ]
    },
    {
      "cell_type": "markdown",
      "id": "92d7d7ee",
      "metadata": {
        "id": "92d7d7ee"
      },
      "source": [
        "As mentioned in the case, the significance level is $\\sigma_1$ = 0.05"
      ]
    },
    {
      "cell_type": "markdown",
      "id": "5fed2eac",
      "metadata": {
        "id": "5fed2eac"
      },
      "source": [
        "### Step 4: Collect and prepare data"
      ]
    },
    {
      "cell_type": "code",
      "execution_count": null,
      "id": "f5a59495",
      "metadata": {
        "id": "f5a59495",
        "outputId": "a03c06c5-d9db-4491-bece-83d36bd93f0e"
      },
      "outputs": [
        {
          "name": "stdout",
          "output_type": "stream",
          "text": [
            "The mean time spent by the subscribers on the new landing page is ~ 6.22 minutes\n",
            "The mean time spent by the subscribers on the old landing page is ~ 4.53 minutes\n",
            "The standard-deviation of the new landing page is is ~ 1.82\n",
            "The standard-deviation of the old landing page is is ~ 2.58\n"
          ]
        }
      ],
      "source": [
        "time_old = news[news.landing_page == 'old'].time_spent_on_the_page   #calculating the time spent by the users on the old page\n",
        "time_new = news[news.landing_page == 'new'].time_spent_on_the_page   #calculating the time spent by users on the new page\n",
        "new_page_mean_time = news[news['landing_page']=='new'].time_spent_on_the_page.mean()  #calculating the mean time spent on the new page\n",
        "old_page_mean_time = news[news['landing_page']=='old'].time_spent_on_the_page.mean()  #calculating the mean time spent on the old page\n",
        "new_page_std_dvt = news[news['landing_page']=='new'].time_spent_on_the_page.std()  #calculating the standard deviations\n",
        "old_page_std_dvt = news[news['landing_page']=='old'].time_spent_on_the_page.std()\n",
        "print(\"The mean time spent by the subscribers on the new landing page is ~\",round(new_page_mean_time,2),\"minutes\")\n",
        "print(\"The mean time spent by the subscribers on the old landing page is ~\",round(old_page_mean_time,2),\"minutes\")\n",
        "print(\"The standard-deviation of the new landing page is is ~\",round(new_page_std_dvt,2))\n",
        "print(\"The standard-deviation of the old landing page is is ~\",round(old_page_std_dvt,2))"
      ]
    },
    {
      "cell_type": "markdown",
      "id": "f5c5258d",
      "metadata": {
        "id": "f5c5258d"
      },
      "source": [
        "### Step 5: Calculate the p-value"
      ]
    },
    {
      "cell_type": "code",
      "execution_count": null,
      "id": "fac8594a",
      "metadata": {
        "id": "fac8594a",
        "outputId": "e6e84a13-79bb-456b-fc5a-22fc7e7ad850"
      },
      "outputs": [
        {
          "name": "stdout",
          "output_type": "stream",
          "text": [
            "The p-value is 0.00013923812251665497\n",
            "The rounded p-value is 0.00013924\n"
          ]
        }
      ],
      "source": [
        "#import the required functions\n",
        "from scipy.stats import ttest_ind      #importing ttest_ind from scipy library\n",
        "\n",
        "# find the p-value\n",
        "test_stat, p_value = ttest_ind(time_old, time_new, equal_var = False, alternative = 'less')\n",
        "print(\"The p-value is\", p_value)\n",
        "rounded = round(p_value,8)\n",
        "print(\"The rounded p-value is\",rounded)"
      ]
    },
    {
      "cell_type": "markdown",
      "id": "359b12f8",
      "metadata": {
        "id": "359b12f8"
      },
      "source": [
        "### Step 6: Compare the p-value with $\\alpha$"
      ]
    },
    {
      "cell_type": "code",
      "execution_count": null,
      "id": "7be47289",
      "metadata": {
        "id": "7be47289",
        "outputId": "f44720b9-dbb4-4da8-bb01-e5a2e6efc3f7"
      },
      "outputs": [
        {
          "name": "stdout",
          "output_type": "stream",
          "text": [
            "The p-value of this case appears to be ~ 0.00013924 and our significance level is ~ 0.05\n",
            "From the above observation the p-value < significance level\n"
          ]
        }
      ],
      "source": [
        "print(\"The p-value of this case appears to be ~\",rounded,\"and our significance level is ~ 0.05\")\n",
        "print(\"From the above observation the p-value < significance level\")\n"
      ]
    },
    {
      "cell_type": "markdown",
      "id": "d9affc84",
      "metadata": {
        "id": "d9affc84"
      },
      "source": [
        "### Step 7:  Draw inference"
      ]
    },
    {
      "cell_type": "markdown",
      "id": "6b16dd4b",
      "metadata": {
        "id": "6b16dd4b"
      },
      "source": [
        "Since the P-value is much less than the significance level so, we can actually reject the null hypothesis which is that the users/subscribers spends the same amount of time on both pages (0.00013924<0.05). So $\\mu_1<\\mu_2$, engagement on the new page ($\\mu_2$), is more than the old existing page ($\\mu_1$)."
      ]
    },
    {
      "cell_type": "markdown",
      "id": "1ad0823a",
      "metadata": {
        "id": "1ad0823a"
      },
      "source": [
        "**A similar approach can be followed to answer the other questions.**"
      ]
    },
    {
      "cell_type": "markdown",
      "id": "353e9d24",
      "metadata": {
        "id": "353e9d24"
      },
      "source": [
        "## 2. Is the conversion rate (the proportion of users who visit the landing page and get converted) for the new page greater than the conversion rate for the old page?"
      ]
    },
    {
      "cell_type": "code",
      "execution_count": null,
      "id": "b7f52898",
      "metadata": {
        "id": "b7f52898",
        "outputId": "16aaf55e-d17f-48d0-aa39-1eb9986bf920"
      },
      "outputs": [
        {
          "name": "stdout",
          "output_type": "stream",
          "text": [
            "The percentage of conversion on the new landing page 66.0 %\n",
            "The percentage of conversion on the old landing page 42.0 %\n"
          ]
        }
      ],
      "source": [
        "converted_new_users_rate = news[news['landing_page']=='new'].converted.value_counts()['yes'] #users who have landed on the new page but chose to convert\n",
        "converted_old_users_rate = news[news['landing_page']=='old'].converted.value_counts()['yes'] #users who have landed on the old page but chose to convert\n",
        "perc_new = (converted_new_users/50*100)        #calculating the percentages\n",
        "perc_old = (converted_old_users_rate/50*100)\n",
        "print(\"The percentage of conversion on the new landing page\",perc_new,\"%\")\n",
        "print(\"The percentage of conversion on the old landing page\",perc_old,\"%\")"
      ]
    },
    {
      "cell_type": "markdown",
      "id": "41fb9e55",
      "metadata": {
        "id": "41fb9e55"
      },
      "source": [
        "Taking $p_1$ as old landing page users and $p_2$ as new landing page users who got converted, simultaneously"
      ]
    },
    {
      "cell_type": "markdown",
      "id": "b66db48d",
      "metadata": {
        "id": "b66db48d"
      },
      "source": [
        ">$Null$ $Hypothesis$"
      ]
    },
    {
      "cell_type": "markdown",
      "id": "a0871d3f",
      "metadata": {
        "id": "a0871d3f"
      },
      "source": [
        ">$P_1$ = $P_2$ \n",
        "\n",
        "The proportion of conversions of old and new landing page users are same."
      ]
    },
    {
      "cell_type": "markdown",
      "id": "59008ab4",
      "metadata": {
        "id": "59008ab4"
      },
      "source": [
        ">$Alternative$ $Hypothesis$"
      ]
    },
    {
      "cell_type": "markdown",
      "id": "c2dd59c0",
      "metadata": {
        "id": "c2dd59c0"
      },
      "source": [
        ">$P_1$ < $P_2$ \n",
        "\n",
        "The proportion of conversion of the new page is more than the old page"
      ]
    },
    {
      "cell_type": "markdown",
      "id": "6992854c",
      "metadata": {
        "id": "6992854c"
      },
      "source": [
        "### Let's test whether the Z-test assumptions are satisfied or not\n",
        "\n",
        "*   Binomally distributed population - Yes, a product is either defective or non-defective.\n",
        "*   Random sampling from the population - Yes, we are informed that the collected sample is a simple random sample.  \n",
        "*   Can the binomial distribution approximated to normal distribution - Yes. For binary data, CLT works slower than usual. The standard thing is to check whether np and n(1-p) are greater than or equal to 10. Here, n and p refer to the sample size and sample proportion respectively.\n",
        ">$n_1p_1 = 50\\cdot \\frac{42}{100} =21 \\geq 10\\\\$\n",
        ">$n_1(1-p_1) = 50\\cdot (1-0.42)=29 \\geq 10\\\\$\n",
        ">$n_2p_2 = 50\\cdot \\frac{66}{100} =33 \\geq 10\\\\$\n",
        ">$n_2(1-p_2) = 50\\cdot (1-0.66)=17 \\geq 10\\\\$\n"
      ]
    },
    {
      "cell_type": "markdown",
      "id": "43b6b576",
      "metadata": {
        "id": "43b6b576"
      },
      "source": [
        "### Decide the significance level"
      ]
    },
    {
      "cell_type": "markdown",
      "id": "75cc0efe",
      "metadata": {
        "id": "75cc0efe"
      },
      "source": [
        "As mentioned in the case, the significance level is $\\sigma_1$ = 0.05"
      ]
    },
    {
      "cell_type": "markdown",
      "id": "a00a7bed",
      "metadata": {
        "id": "a00a7bed"
      },
      "source": [
        "### Calculating the p-value"
      ]
    },
    {
      "cell_type": "code",
      "execution_count": null,
      "id": "5c9fa647",
      "metadata": {
        "id": "5c9fa647",
        "outputId": "ae31752d-00e9-4ffa-d8f8-06a0e6f392f1"
      },
      "outputs": [
        {
          "name": "stdout",
          "output_type": "stream",
          "text": [
            "The p-value is 0.016052616408112556\n"
          ]
        }
      ],
      "source": [
        "# import the required fuction\n",
        "from statsmodels.stats.proportion import proportions_ztest\n",
        "defect_count = np.array([converted_old_users_rate, converted_new_users_rate]) #for our p-value in two sample z-test\n",
        "nobs = np.array([50, 50])                                #it will generate defect count\n",
        "test_stat, p_value = proportions_ztest(defect_count, nobs) #will generate the p-value\n",
        "print('The p-value is ' + str(p_value))      "
      ]
    },
    {
      "cell_type": "markdown",
      "id": "b9f1f7aa",
      "metadata": {
        "id": "b9f1f7aa"
      },
      "source": [
        "### Compare the p-value with $\\alpha$"
      ]
    },
    {
      "cell_type": "code",
      "execution_count": null,
      "id": "a1870386",
      "metadata": {
        "id": "a1870386",
        "outputId": "c2d4a81f-3137-49eb-a374-9d9b4c6d8c15"
      },
      "outputs": [
        {
          "name": "stdout",
          "output_type": "stream",
          "text": [
            "The p-value of this case appears to be ~ 0.016052616408112556 and our significance level is ~ 0.05\n",
            "From the above observation the p-value < significance level\n"
          ]
        }
      ],
      "source": [
        "print(\"The p-value of this case appears to be ~\",p_value,\"and our significance level is ~ 0.05\")\n",
        "print(\"From the above observation the p-value < significance level\")"
      ]
    },
    {
      "cell_type": "markdown",
      "id": "8bc23942",
      "metadata": {
        "id": "8bc23942"
      },
      "source": [
        "### Draw inference"
      ]
    },
    {
      "cell_type": "markdown",
      "id": "094d3490",
      "metadata": {
        "id": "094d3490"
      },
      "source": [
        "Since, the p~value is really less than the significance level so, we can sucessfully reject the null hypothesis (0.1605<0.05). So we can conclude that ($p_1$<$p_2$); where the users on the new landing page were more converts rather than, the old landing page."
      ]
    },
    {
      "cell_type": "markdown",
      "id": "d49bfa2d",
      "metadata": {
        "id": "d49bfa2d"
      },
      "source": [
        "## 3. Is the conversion and preferred language are independent or related?"
      ]
    },
    {
      "cell_type": "code",
      "execution_count": null,
      "id": "58827ab8",
      "metadata": {
        "id": "58827ab8",
        "outputId": "6a60e16e-add3-42bf-d226-522fe30c99ab"
      },
      "outputs": [
        {
          "data": {
            "image/png": "[encoded data removed]",
            "text/plain": [
              "<Figure size 640x480 with 1 Axes>"
            ]
          },
          "metadata": {},
          "output_type": "display_data"
        }
      ],
      "source": [
        "converted_prefer= sns.countplot(data = news, x = 'language_preferred', hue = 'converted', palette = 'bright')\n",
        "converted_prefer.set_ylim([0,25]);\n",
        "converted_prefer.set_ylabel(\"Subscribers\")\n",
        "converted_prefer.set_xlabel(\"Languages preferred\");  #will generate countplot \n",
        "                                                     #the y lim is from 0-25\n"
      ]
    },
    {
      "cell_type": "markdown",
      "id": "9e8c2aca",
      "metadata": {
        "id": "9e8c2aca"
      },
      "source": [
        "From the above visualization observation, it seems like the subscribers conversion preferrence may depend upon their language preferrence. Let's do a hypothesis test to be more sure and accurate. Users of different languages have more or less conversion rates too."
      ]
    },
    {
      "cell_type": "markdown",
      "id": "e87c0590",
      "metadata": {
        "id": "e87c0590"
      },
      "source": [
        "### Let's write the null and alternative hypothesis\n",
        "\n",
        "\n",
        "We will test the null hypothesis\n",
        "\n",
        ">$H_0:$ Conversion preferrence is independent of language preferrence.\n",
        "\n",
        "against the alternate hypothesis\n",
        "\n",
        ">$H_a:$ Conversion preferrence is dependent on language preferrence."
      ]
    },
    {
      "cell_type": "markdown",
      "id": "13414fbe",
      "metadata": {
        "id": "13414fbe"
      },
      "source": [
        "### Deciding the significance level"
      ]
    },
    {
      "cell_type": "markdown",
      "id": "a00e8ea6",
      "metadata": {
        "id": "a00e8ea6"
      },
      "source": [
        "As mentioned in the case, the significance level is $\\sigma_1$ = 0.05"
      ]
    },
    {
      "cell_type": "markdown",
      "id": "1022e210",
      "metadata": {
        "id": "1022e210"
      },
      "source": [
        "### Appropiate Test"
      ]
    },
    {
      "cell_type": "markdown",
      "id": "a5caee45",
      "metadata": {
        "id": "a5caee45"
      },
      "source": [
        "# <a name='link14'>**Chi-Square Test for Independence**</a>"
      ]
    },
    {
      "cell_type": "markdown",
      "id": "d041453c",
      "metadata": {
        "id": "d041453c"
      },
      "source": [
        "### Let's test whether the assumptions are satisfied or not\n",
        "\n",
        "* Categorical variables - Yes\n",
        "* Expected value of the number of sample observations in each level of the variable is at least 5 - Yes, the number of observations in each level is greater than 5.\n",
        "* Random sampling from the population - Yes, we are informed that the collected sample is a simple random sample."
      ]
    },
    {
      "cell_type": "markdown",
      "id": "193e2b38",
      "metadata": {
        "id": "193e2b38"
      },
      "source": [
        "### Creating a contingency table"
      ]
    },
    {
      "cell_type": "code",
      "execution_count": null,
      "id": "991e1e51",
      "metadata": {
        "id": "991e1e51",
        "outputId": "a0917cd0-4a81-4afb-f3fe-10f1c7323737"
      },
      "outputs": [
        {
          "data": {
            "text/html": [
              "<div>\n",
              "<style scoped>\n",
              "    .dataframe tbody tr th:only-of-type {\n",
              "        vertical-align: middle;\n",
              "    }\n",
              "\n",
              "    .dataframe tbody tr th {\n",
              "        vertical-align: top;\n",
              "    }\n",
              "\n",
              "    .dataframe thead th {\n",
              "        text-align: right;\n",
              "    }\n",
              "</style>\n",
              "<table border=\"1\" class=\"dataframe\">\n",
              "  <thead>\n",
              "    <tr style=\"text-align: right;\">\n",
              "      <th>language_preferred</th>\n",
              "      <th>English</th>\n",
              "      <th>French</th>\n",
              "      <th>Spanish</th>\n",
              "    </tr>\n",
              "    <tr>\n",
              "      <th>converted</th>\n",
              "      <th></th>\n",
              "      <th></th>\n",
              "      <th></th>\n",
              "    </tr>\n",
              "  </thead>\n",
              "  <tbody>\n",
              "    <tr>\n",
              "      <th>no</th>\n",
              "      <td>11</td>\n",
              "      <td>19</td>\n",
              "      <td>16</td>\n",
              "    </tr>\n",
              "    <tr>\n",
              "      <th>yes</th>\n",
              "      <td>21</td>\n",
              "      <td>15</td>\n",
              "      <td>18</td>\n",
              "    </tr>\n",
              "  </tbody>\n",
              "</table>\n",
              "</div>"
            ],
            "text/plain": [
              "language_preferred  English  French  Spanish\n",
              "converted                                   \n",
              "no                       11      19       16\n",
              "yes                      21      15       18"
            ]
          },
          "execution_count": 30,
          "metadata": {},
          "output_type": "execute_result"
        }
      ],
      "source": [
        "contingency_table = pd.crosstab(news.converted, news.language_preferred)\n",
        "contingency_table      #will generate a contingent table for our chi square test"
      ]
    },
    {
      "cell_type": "markdown",
      "id": "c11839fb",
      "metadata": {
        "id": "c11839fb"
      },
      "source": [
        "### Calculating the P~Value"
      ]
    },
    {
      "cell_type": "code",
      "execution_count": null,
      "id": "71ceea6b",
      "metadata": {
        "id": "71ceea6b",
        "outputId": "1ed39135-83d9-43e4-f369-91fd95bac811"
      },
      "outputs": [
        {
          "name": "stdout",
          "output_type": "stream",
          "text": [
            "The p-value is 0.21298887487543447\n"
          ]
        }
      ],
      "source": [
        "# import the required function\n",
        "from scipy.stats import chi2_contingency         #from scipy library importing the ch12_contingency which\n",
        "                                               \n",
        "\n",
        "# find the p-value\n",
        "chi, p_value, dof, expected = chi2_contingency(contingency_table)\n",
        "print('The p-value is', p_value)"
      ]
    },
    {
      "cell_type": "markdown",
      "id": "199308fb",
      "metadata": {
        "id": "199308fb"
      },
      "source": [
        "### Compare the p-value with $\\alpha$"
      ]
    },
    {
      "cell_type": "code",
      "execution_count": null,
      "id": "06f2e511",
      "metadata": {
        "id": "06f2e511",
        "outputId": "e80c792e-40e1-45d2-e375-013a965b92e5"
      },
      "outputs": [
        {
          "name": "stdout",
          "output_type": "stream",
          "text": [
            "The p-value of this case appears to be ~ 0.21298887487543447 and our significance level is ~ 0.05\n",
            "From the above observation the p-value(0.21298) > significance level(0.05)\n",
            "True\n"
          ]
        }
      ],
      "source": [
        "print(\"The p-value of this case appears to be ~\",p_value,\"and our significance level is ~ 0.05\")\n",
        "print(\"From the above observation the p-value(0.21298) > significance level(0.05)\")\n",
        "print(0.21298>0.05)"
      ]
    },
    {
      "cell_type": "markdown",
      "id": "4f087bd6",
      "metadata": {
        "id": "4f087bd6"
      },
      "source": [
        "### Draw inference"
      ]
    },
    {
      "cell_type": "markdown",
      "id": "b03fd174",
      "metadata": {
        "id": "b03fd174"
      },
      "source": [
        "Since the P~Value (~0.21298) is > the significance level (~0.05) so we fail to reject the null hypothesis and can also fail to conclude that the conversion rates does not depend on the preferred languages."
      ]
    },
    {
      "cell_type": "markdown",
      "id": "8d585a90",
      "metadata": {
        "id": "8d585a90"
      },
      "source": [
        "## 4. Is the time spent on the new page same for the different language users?"
      ]
    },
    {
      "cell_type": "code",
      "execution_count": null,
      "id": "b422f395",
      "metadata": {
        "id": "b422f395",
        "outputId": "b74e6400-4837-4070-97b3-14f11b4adb4e"
      },
      "outputs": [
        {
          "data": {
            "image/png": "[encoded data removed]",
            "text/plain": [
              "<Figure size 500x1500 with 3 Axes>"
            ]
          },
          "metadata": {},
          "output_type": "display_data"
        }
      ],
      "source": [
        "sns.relplot(\n",
        "    x='landing_page', #generating a lineplot as x = food_preparation_type and y as the rating\n",
        "    y='time_spent_on_the_page', \n",
        "    data=news, \n",
        "    kind='line', \n",
        "    col='language_preferred',col_wrap = 1);    #genrates replot keeping x as the landing page, y as the time spent on the page and based on the languages preferred"
      ]
    },
    {
      "cell_type": "markdown",
      "id": "07ed50f6",
      "metadata": {
        "id": "07ed50f6"
      },
      "source": [
        "### Let's write the null and alternative hypothesis\n",
        "\n",
        "Let $\\mu_1, \\mu_2, \\mu_3$ be the means of time spent on the page for language preferences English, Spanish and French respectively.\n",
        "\n",
        "We will test the null hypothesis\n",
        "\n",
        ">$H_0: \\mu_1 = \\mu_2 = \\mu_3$\n",
        "\n",
        "against the alternative hypothesis\n",
        "\n",
        ">$H_a: $ At least users of one language section spends more mean time ."
      ]
    },
    {
      "cell_type": "markdown",
      "id": "256feb59",
      "metadata": {
        "id": "256feb59"
      },
      "source": [
        "### Selecting the appropiate test"
      ]
    },
    {
      "cell_type": "markdown",
      "id": "42f34512",
      "metadata": {
        "id": "42f34512"
      },
      "source": [
        "# <a name='link15'>**One-way ANOVA Test**</a>"
      ]
    },
    {
      "cell_type": "markdown",
      "id": "e269d90b",
      "metadata": {
        "id": "e269d90b"
      },
      "source": [
        "### Since, it involves the comparison of three independent populations from our datasets so, ANOVA test might be our best option. We will check our hypothesis through the Shapiro-Wilk and Levene's test."
      ]
    },
    {
      "cell_type": "markdown",
      "id": "593eb901",
      "metadata": {
        "id": "593eb901"
      },
      "source": [
        ">$H_0$: The time spent has a normal distribution\n",
        "\n",
        ">$H_a$: The time spent does not have a normal distribution"
      ]
    },
    {
      "cell_type": "markdown",
      "id": "807f6192",
      "metadata": {
        "id": "807f6192"
      },
      "source": [
        "### P-Value from Shapiro Wilk test"
      ]
    },
    {
      "cell_type": "code",
      "execution_count": null,
      "id": "9590b1b9",
      "metadata": {
        "id": "9590b1b9",
        "outputId": "8870da2b-1861-45a4-88cf-258ddc308c84"
      },
      "outputs": [
        {
          "name": "stdout",
          "output_type": "stream",
          "text": [
            "The p-value is 0.8040016293525696\n"
          ]
        }
      ],
      "source": [
        "#seperating the data for new page users\n",
        "news_new_page = news[news.landing_page == 'new']\n",
        "#calculating P value using shapiro\n",
        "from scipy import stats\n",
        "\n",
        "# find the p-value\n",
        "w, p_value = stats.shapiro(news_new_page.time_spent_on_the_page) \n",
        "print('The p-value is', p_value)"
      ]
    },
    {
      "cell_type": "markdown",
      "id": "223a1ad3",
      "metadata": {
        "id": "223a1ad3"
      },
      "source": [
        "### Draw inference"
      ]
    },
    {
      "cell_type": "markdown",
      "id": "feb8e4ba",
      "metadata": {
        "id": "feb8e4ba"
      },
      "source": [
        "Since the P~Value is (0.80400), we fail to reject the null hypothesis. So, based on our tests so far the null hypothesis which was time spent by different language preferred users couldn't be rejected."
      ]
    },
    {
      "cell_type": "markdown",
      "id": "0eca353d",
      "metadata": {
        "id": "0eca353d"
      },
      "source": [
        "### Levene’s test\n",
        "\n",
        "We will test the null hypothesis\n",
        "\n",
        ">$H_0$: All the population variances are equal\n",
        "\n",
        "against the alternative hypothesis\n",
        "\n",
        ">$H_a$: At least one variance is different from the rest"
      ]
    },
    {
      "cell_type": "code",
      "execution_count": null,
      "id": "a5ad0098",
      "metadata": {
        "id": "a5ad0098",
        "outputId": "a57d3d80-63b2-4387-85ef-4f819bae6994"
      },
      "outputs": [
        {
          "name": "stdout",
          "output_type": "stream",
          "text": [
            "The p-value is 0.06515086840327314\n"
          ]
        }
      ],
      "source": [
        "#Assumption 2: Homogeneity of Variance\n",
        "#import the required function\n",
        "from scipy.stats import levene\n",
        "statistic, p_value = levene( news['time_spent_on_the_page'][news['language_preferred']==\"English\"], \n",
        "                                   news['time_spent_on_the_page'][news['language_preferred']==\"Spanish\"], \n",
        "                                   news['time_spent_on_the_page'][news['language_preferred']==\"French\"])\n",
        "# find the p-value\n",
        "print('The p-value is', p_value)"
      ]
    },
    {
      "cell_type": "markdown",
      "id": "c0a79c3b",
      "metadata": {
        "id": "c0a79c3b"
      },
      "source": [
        "### Draw inference"
      ]
    },
    {
      "cell_type": "markdown",
      "id": "ebbeddb2",
      "metadata": {
        "id": "ebbeddb2"
      },
      "source": [
        "Since, the p~value (~0.6515) is higher than the significance level(~0.05) so, we fail to reject the null hypothesis of the time spent by the different language preferred users aren't different couldn't be rejected. But more testing required."
      ]
    },
    {
      "cell_type": "markdown",
      "id": "3acbc947",
      "metadata": {
        "id": "3acbc947"
      },
      "source": [
        "## Conclusion and Business Recommendations"
      ]
    },
    {
      "cell_type": "markdown",
      "id": "d692ea57",
      "metadata": {
        "id": "d692ea57"
      },
      "source": [
        "### Conclusion"
      ]
    },
    {
      "cell_type": "markdown",
      "id": "21fb1063",
      "metadata": {
        "id": "21fb1063"
      },
      "source": [
        "### The majority of the users of the portal converted (<50%).\n",
        "### The popularity of preferred languages seems to maintain a very close range which was impressive but, I think further research will actually give us a more definite data.\n",
        "### The mean time spent on the page seems to be only more than 5 minutes which is obviously not much for a popular news portal.\n",
        "### Since, the data was evenly distributed among the samples so the 'control' and the 'treatment' group shared the same mean time.\n",
        "### Through our test and observation we have enough valid reason to say that the users has spent more time on the new landing page than the old landing page. \n",
        "### The percentage of converted users to the new landing page is 66% where, the percentage of converted users to the old landing page is 42%\n",
        "### As a user has spent more time, he/she has most of the times converted to the new landing page.\n",
        "### So far from our observation we have failed to say that the conversion rate depends on the preferred languages.\n",
        "### And, also we fail to conclude that more time spent by different users based on language preferrence is different."
      ]
    },
    {
      "cell_type": "markdown",
      "id": "4579193a",
      "metadata": {
        "id": "4579193a"
      },
      "source": [
        "### Recommendations"
      ]
    },
    {
      "cell_type": "markdown",
      "id": "3de93887",
      "metadata": {
        "id": "3de93887"
      },
      "source": [
        "### The sample mean time was only 5.37 minutes and the most time spent by an user was 10 minutes which actually dosen't look good for a sucessful portal. The new page also needs more updates. \n",
        "\n",
        "### A little more than half converted to subscribers, this will actually affect the business margin. So it also requires more attention.\n",
        "\n",
        "### Since, its already in three-languages as the popularities are also great but, if two more languages region based could have been added then maybe the news portal would expect more readers.\n",
        "\n",
        "### If we had those data's available then, we could have looked for the age of most of the readers maybe, our news portal dosen't have sufficient resources to attract young adults or students so that they feel the importance of more engagement in it."
      ]
    },
    {
      "cell_type": "markdown",
      "id": "U0dAd4i0iCHo",
      "metadata": {
        "id": "U0dAd4i0iCHo"
      },
      "source": [
        "___"
      ]
    },
    {
      "cell_type": "code",
      "source": [],
      "metadata": {
        "colab": {
          "base_uri": "https://localhost:8080/"
        },
        "id": "iGlzfkwaex1p",
        "outputId": "ba9e4103-d6b2-4098-83d5-d00d270eea81"
      },
      "id": "iGlzfkwaex1p",
      "execution_count": null,
      "outputs": [
        {
          "output_type": "stream",
          "name": "stdout",
          "text": [
            "/bin/bash: -c: line 0: syntax error near unexpected token `('\n",
            "/bin/bash: -c: line 0: `jupyter nbconvert --to html (solution)_ENews_Express_Full_Code_Version.ipynb'\n"
          ]
        }
      ]
    }
  ],
  "metadata": {
    "colab": {
      "collapsed_sections": [
        "a6a3d218",
        "6970dd99",
        "9d75cfa2",
        "68f3b2c9",
        "fad2de2f",
        "27906576",
        "e5fdf0c8",
        "56b3dafd",
        "c7ee4907",
        "3f58c9a7",
        "5fed2eac",
        "f5c5258d",
        "359b12f8",
        "d9affc84",
        "353e9d24",
        "d49bfa2d",
        "8d585a90",
        "3acbc947"
      ],
      "provenance": []
    },
    "kernelspec": {
      "display_name": "Python 3",
      "language": "python",
      "name": "python3"
    },
    "language_info": {
      "codemirror_mode": {
        "name": "ipython",
        "version": 3
      },
      "file_extension": ".py",
      "mimetype": "text/x-python",
      "name": "python",
      "nbconvert_exporter": "python",
      "pygments_lexer": "ipython3",
      "version": "3.10.10"
    }
  },
  "nbformat": 4,
  "nbformat_minor": 5
}